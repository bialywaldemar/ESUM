{
 "cells": [
  {
   "cell_type": "markdown",
   "metadata": {
    "colab_type": "text",
    "id": "GjLwr7LHju9z"
   },
   "source": [
    "# Monte Carlo introduction to Python, NumPy and Jupyter notebooks"
   ]
  },
  {
   "cell_type": "code",
   "execution_count": 2,
   "metadata": {},
   "outputs": [
    {
     "name": "stdout",
     "output_type": "stream",
     "text": [
      "Requirement already satisfied: mkl-service in c:\\users\\mateu\\appdata\\local\\programs\\python\\python312\\lib\\site-packages (2.4.2)\n",
      "Requirement already satisfied: mkl in c:\\users\\mateu\\appdata\\local\\programs\\python\\python312\\lib\\site-packages (from mkl-service) (2025.0.1)\n",
      "Requirement already satisfied: intel-openmp>=2024 in c:\\users\\mateu\\appdata\\local\\programs\\python\\python312\\lib\\site-packages (from mkl->mkl-service) (2025.0.5)\n",
      "Requirement already satisfied: tbb==2022.* in c:\\users\\mateu\\appdata\\local\\programs\\python\\python312\\lib\\site-packages (from mkl->mkl-service) (2022.0.0)\n",
      "Requirement already satisfied: tcmlib==1.* in c:\\users\\mateu\\appdata\\local\\programs\\python\\python312\\lib\\site-packages (from tbb==2022.*->mkl->mkl-service) (1.2.0)\n",
      "Requirement already satisfied: intel-cmplr-lib-ur==2025.0.5 in c:\\users\\mateu\\appdata\\local\\programs\\python\\python312\\lib\\site-packages (from intel-openmp>=2024->mkl->mkl-service) (2025.0.5)\n",
      "Requirement already satisfied: umf==0.9.* in c:\\users\\mateu\\appdata\\local\\programs\\python\\python312\\lib\\site-packages (from intel-cmplr-lib-ur==2025.0.5->intel-openmp>=2024->mkl->mkl-service) (0.9.1)\n"
     ]
    },
    {
     "name": "stderr",
     "output_type": "stream",
     "text": [
      "\n",
      "[notice] A new release of pip is available: 23.2.1 -> 25.0.1\n",
      "[notice] To update, run: python.exe -m pip install --upgrade pip\n"
     ]
    }
   ],
   "source": [
    "!pip install mkl-service\n"
   ]
  },
  {
   "cell_type": "code",
   "execution_count": 3,
   "metadata": {
    "colab": {},
    "colab_type": "code",
    "collapsed": true,
    "id": "Y0Y7HX_yju91"
   },
   "outputs": [
    {
     "ename": "ImportError",
     "evalue": "DLL load failed while importing _mklinit: Nie można odnaleźć określonego modułu.",
     "output_type": "error",
     "traceback": [
      "\u001b[31m---------------------------------------------------------------------------\u001b[39m",
      "\u001b[31mImportError\u001b[39m                               Traceback (most recent call last)",
      "\u001b[36mCell\u001b[39m\u001b[36m \u001b[39m\u001b[32mIn[3]\u001b[39m\u001b[32m, line 3\u001b[39m\n\u001b[32m      1\u001b[39m \u001b[38;5;28;01mimport\u001b[39;00m\u001b[38;5;250m \u001b[39m\u001b[34;01mnumpy\u001b[39;00m\u001b[38;5;250m \u001b[39m\u001b[38;5;28;01mas\u001b[39;00m\u001b[38;5;250m \u001b[39m\u001b[34;01mnp\u001b[39;00m\n\u001b[32m      2\u001b[39m \u001b[38;5;28;01mimport\u001b[39;00m\u001b[38;5;250m \u001b[39m\u001b[34;01mmatplotlib\u001b[39;00m\u001b[34;01m.\u001b[39;00m\u001b[34;01mpyplot\u001b[39;00m\u001b[38;5;250m \u001b[39m\u001b[38;5;28;01mas\u001b[39;00m\u001b[38;5;250m \u001b[39m\u001b[34;01mplt\u001b[39;00m\n\u001b[32m----> \u001b[39m\u001b[32m3\u001b[39m \u001b[38;5;28;01mimport\u001b[39;00m\u001b[38;5;250m \u001b[39m\u001b[34;01mmkl\u001b[39;00m\n\u001b[32m      5\u001b[39m \u001b[38;5;28;01mfrom\u001b[39;00m\u001b[38;5;250m \u001b[39m\u001b[34;01mIPython\u001b[39;00m\u001b[34;01m.\u001b[39;00m\u001b[34;01mdisplay\u001b[39;00m\u001b[38;5;250m \u001b[39m\u001b[38;5;28;01mimport\u001b[39;00m display, HTML\n\u001b[32m      6\u001b[39m \u001b[38;5;28;01mfrom\u001b[39;00m\u001b[38;5;250m \u001b[39m\u001b[34;01mmatplotlib\u001b[39;00m\u001b[34;01m.\u001b[39;00m\u001b[34;01manimation\u001b[39;00m\u001b[38;5;250m \u001b[39m\u001b[38;5;28;01mimport\u001b[39;00m FuncAnimation\n",
      "\u001b[36mFile \u001b[39m\u001b[32mc:\\Users\\mateu\\AppData\\Local\\Programs\\Python\\Python312\\Lib\\site-packages\\mkl\\__init__.py:49\u001b[39m\n\u001b[32m     46\u001b[39m             \u001b[38;5;28mself\u001b[39m.saved_rtld = \u001b[38;5;28;01mNone\u001b[39;00m\n\u001b[32m     48\u001b[39m \u001b[38;5;28;01mwith\u001b[39;00m RTLD_for_MKL():\n\u001b[32m---> \u001b[39m\u001b[32m49\u001b[39m     \u001b[38;5;28;01mfrom\u001b[39;00m\u001b[38;5;250m \u001b[39m\u001b[34;01m.\u001b[39;00m\u001b[38;5;250m \u001b[39m\u001b[38;5;28;01mimport\u001b[39;00m _mklinit\n\u001b[32m     51\u001b[39m \u001b[38;5;28;01mdel\u001b[39;00m RTLD_for_MKL\n\u001b[32m     52\u001b[39m \u001b[38;5;28;01mdel\u001b[39;00m sys\n",
      "\u001b[31mImportError\u001b[39m: DLL load failed while importing _mklinit: Nie można odnaleźć określonego modułu."
     ]
    }
   ],
   "source": [
    "import numpy as np\n",
    "import matplotlib.pyplot as plt\n",
    "import mkl\n",
    "\n",
    "from IPython.display import display, HTML\n",
    "from matplotlib.animation import FuncAnimation\n",
    "\n",
    "np.random.seed(1234)\n",
    "mkl.set_num_threads(4)\n",
    "\n",
    "%matplotlib inline\n",
    "%config InlineBackend.figure_format = 'retina'\n",
    "plt.rcParams[\"figure.figsize\"] = [16, 9]"
   ]
  },
  {
   "cell_type": "markdown",
   "metadata": {
    "colab_type": "text",
    "id": "HgspCXenju94"
   },
   "source": [
    "## Estimating π with Monte Carlo\n",
    "\n",
    "Implement ```sample_points``` function. This function should sample ```count``` points from a $d$-dimensional cube  $[-1, 1]^d$ and return tuple with two NumPy arrays:\n",
    "- the first tuple element should be an array of points that fall inside the $d$ dimensional ball centered at origin and with unit radius,\n",
    "- the second element should be an array with points that fall outside that ball.\n",
    "\n",
    "Point coordinates should be stored row-wise."
   ]
  },
  {
   "cell_type": "code",
   "execution_count": 7,
   "metadata": {
    "colab": {},
    "colab_type": "code",
    "collapsed": true,
    "id": "HhM2tDeaju95"
   },
   "outputs": [
    {
     "name": "stdout",
     "output_type": "stream",
     "text": [
      "(array([[ 0.47735018,  0.03905546],\n",
      "       [-0.39359104,  0.87099427],\n",
      "       [-0.41348755,  0.2508277 ],\n",
      "       [-0.15473954,  0.18330381],\n",
      "       [-0.47581026,  0.6302783 ],\n",
      "       [-0.02097545,  0.57155377],\n",
      "       [ 0.033366  ,  0.55603465],\n",
      "       [-0.33447269,  0.94235771],\n",
      "       [ 0.841058  ,  0.24798609]]), array([[0.91216611, 0.69949063]]))\n"
     ]
    }
   ],
   "source": [
    "def sample_points(count, d):    \n",
    "    points = np.random.uniform(-1, 1, count * d).reshape(count, d)\n",
    "    radii = np.linalg.norm(points, axis=1)\n",
    "    inner = points[radii <= 1]\n",
    "    outer = points[radii > 1]\n",
    "    return inner, outer\n",
    "\n",
    "print(sample_points(10,2))"
   ]
  },
  {
   "cell_type": "markdown",
   "metadata": {
    "colab_type": "text",
    "id": "L_1PBxodmw0E"
   },
   "source": [
    "Implement ```approx_pi_mc``` function, which uses a draw from ```sample_points``` to estimate the vaue of $\\pi$. Arguments are:\n",
    "- ```sample``` - a tuple returned by ```sample_pints``` with d=2. \n",
    "\n",
    "Note that you can estimate $\\pi$ by approximating the surface area of a $2$-dimensional ball (disc) with a given radius. This is nothing else than approximating the integral of an indicator function over the surface of that ball. Plain Monte Carlo is good at approximating integrals when dimensionality is not overly large."
   ]
  },
  {
   "cell_type": "code",
   "execution_count": 10,
   "metadata": {},
   "outputs": [],
   "source": [
    "sample = sample_points(100000, 2)"
   ]
  },
  {
   "cell_type": "code",
   "execution_count": 11,
   "metadata": {
    "colab": {},
    "colab_type": "code",
    "collapsed": true,
    "id": "MMB5cY-emvxW"
   },
   "outputs": [
    {
     "name": "stdout",
     "output_type": "stream",
     "text": [
      "3.14988\n"
     ]
    }
   ],
   "source": [
    "def approx_pi_mc(sample):\n",
    "    inner, outer = sample\n",
    "    inner_count = len(inner)\n",
    "    total_count = len(inner) + len(outer)\n",
    "\n",
    "    pi_approx = 4 * inner_count / total_count\n",
    "    return pi_approx\n",
    "\n",
    "print(approx_pi_mc(sample))"
   ]
  },
  {
   "cell_type": "markdown",
   "metadata": {
    "colab_type": "text",
    "id": "-0V3MJQlju97"
   },
   "source": [
    "### Visualization"
   ]
  },
  {
   "cell_type": "code",
   "execution_count": 12,
   "metadata": {
    "colab": {
     "base_uri": "https://localhost:8080/",
     "height": 700
    },
    "colab_type": "code",
    "id": "wBAUd0mAju99",
    "outputId": "1a582924-be9c-429d-e375-6ea545a130dc"
   },
   "outputs": [
    {
     "name": "stderr",
     "output_type": "stream",
     "text": [
      "<>:15: SyntaxWarning: invalid escape sequence '\\p'\n",
      "<>:15: SyntaxWarning: invalid escape sequence '\\p'\n",
      "C:\\Users\\mateu\\AppData\\Local\\Temp\\ipykernel_5336\\1434313114.py:15: SyntaxWarning: invalid escape sequence '\\p'\n",
      "  axis.set_title(f'size = {n}, $\\pi$ = {pi}')\n",
      "C:\\Users\\mateu\\AppData\\Local\\Temp\\ipykernel_5336\\1434313114.py:15: SyntaxWarning: invalid escape sequence '\\p'\n",
      "  axis.set_title(f'size = {n}, $\\pi$ = {pi}')\n"
     ]
    },
    {
     "ename": "NameError",
     "evalue": "name 'FuncAnimation' is not defined",
     "output_type": "error",
     "traceback": [
      "\u001b[31m---------------------------------------------------------------------------\u001b[39m",
      "\u001b[31mNameError\u001b[39m                                 Traceback (most recent call last)",
      "\u001b[36mCell\u001b[39m\u001b[36m \u001b[39m\u001b[32mIn[12]\u001b[39m\u001b[32m, line 27\u001b[39m\n\u001b[32m     23\u001b[39m     axis.set_ylim((-\u001b[32m1\u001b[39m, \u001b[32m1\u001b[39m))\n\u001b[32m     24\u001b[39m     \u001b[38;5;28;01mreturn\u001b[39;00m inner_plot, outer_plot\n\u001b[32m---> \u001b[39m\u001b[32m27\u001b[39m animation = \u001b[43mFuncAnimation\u001b[49m(figure, update, init_func=init, frames=\u001b[38;5;28mlen\u001b[39m(counts), interval=\u001b[32m2000\u001b[39m)\n\u001b[32m     28\u001b[39m HTML(animation.to_html5_video())\n",
      "\u001b[31mNameError\u001b[39m: name 'FuncAnimation' is not defined"
     ]
    },
    {
     "data": {
      "image/png": "[encoded data removed]",
      "text/plain": [
       "<Figure size 500x500 with 1 Axes>"
      ]
     },
     "metadata": {},
     "output_type": "display_data"
    }
   ],
   "source": [
    "counts = [10 ** i for i in range(1, 7)]\n",
    "\n",
    "figure, axis = plt.subplots(figsize=(5, 5))\n",
    "inner_plot, = plt.plot([], [], 'ro', markersize=2)\n",
    "outer_plot, = plt.plot([], [], 'bo', markersize=2)\n",
    "\n",
    "\n",
    "def update(idx):\n",
    "    n = counts[idx]\n",
    "    sample = sample_points(n, 2)\n",
    "    inner, outer = sample\n",
    "\n",
    "    pi = approx_pi_mc(sample)\n",
    "\n",
    "    axis.set_title(f'size = {n}, $\\pi$ = {pi}')\n",
    "    inner_plot.set_data((inner[:, 0], inner[:, 1]))\n",
    "    outer_plot.set_data((outer[:, 0], outer[:, 1]))\n",
    "    return inner_plot, outer_plot\n",
    "\n",
    "\n",
    "def init():\n",
    "    axis.set_xlim((-1, 1))\n",
    "    axis.set_ylim((-1, 1))\n",
    "    return inner_plot, outer_plot\n",
    "\n",
    "\n",
    "animation = FuncAnimation(figure, update, init_func=init, frames=len(counts), interval=2000)\n",
    "HTML(animation.to_html5_video())"
   ]
  },
  {
   "cell_type": "markdown",
   "metadata": {
    "colab_type": "text",
    "id": "YMD_AdEYju-A"
   },
   "source": [
    "## Monte Carlo cont. - what is the ratio between volume of a $d$-dimensional (inscribed) ball and volume of a $d$-dimensional hypercube?\n",
    "\n",
    "Use ```sample_pints``` to estimate the ratio between volume of a $d$-dimensional ball and volume of a $d$-dimensional inscribing hypercube. Use ```ratio_sample_size``` points to estimate that ratio."
   ]
  },
  {
   "cell_type": "code",
   "execution_count": null,
   "metadata": {
    "colab": {},
    "colab_type": "code",
    "collapsed": true,
    "id": "Jrd59TnywOdX"
   },
   "outputs": [],
   "source": [
    "ratio_sample_size = 10000\n",
    "\n",
    "def volume_ratio(d):\n",
    "    raise Exception('Unimplemented')"
   ]
  },
  {
   "cell_type": "markdown",
   "metadata": {},
   "source": [
    "Lets see how that ratio changes with the number of dimensions."
   ]
  },
  {
   "cell_type": "code",
   "execution_count": null,
   "metadata": {
    "colab": {},
    "colab_type": "code",
    "id": "ll5vZqdvju-B",
    "outputId": "ed3242f2-9137-40a2-d51e-e5a465f7ced9",
    "scrolled": false
   },
   "outputs": [],
   "source": [
    "dims = np.arange(1, 50, 1)\n",
    "ratios = np.vectorize(volume_ratio)(dims)\n",
    "\n",
    "figure, axis = plt.subplots(1, 2, figsize=(15, 5))\n",
    "axis[0].grid()\n",
    "axis[0].plot(dims, ratios)\n",
    "axis[1].grid()\n",
    "axis[1].semilogy()\n",
    "axis[1].plot(dims, ratios);"
   ]
  },
  {
   "cell_type": "markdown",
   "metadata": {
    "colab_type": "text",
    "id": "WsnNN6D5ju-E"
   },
   "source": [
    "## Monte Carlo cont. <br> Samplig points uniformly from a $d$-dimensional ball is trivial, right? Not."
   ]
  },
  {
   "cell_type": "markdown",
   "metadata": {},
   "source": [
    "Rejection sampling won't work above approx. 10 dimensions - most samples will fall outside the ball and be rejected. But wait! How about we:\n",
    "- first sample the radius (uniformly),\n",
    "- then sample the direction (i.e. a unit vector from $\\mathbb{R}^d$),\n",
    "- then generate the point by combining radius and direction?."
   ]
  },
  {
   "cell_type": "markdown",
   "metadata": {},
   "source": [
    "Implement ```sample_directions``` function, which returns points sampled randomly from the surface of a $d$-dimensional ball centered at origin and with unit radius. ```sample_directions``` should return an NumPy array, where each row is a sampled point (coordinates)."
   ]
  },
  {
   "cell_type": "code",
   "execution_count": null,
   "metadata": {
    "collapsed": true
   },
   "outputs": [],
   "source": [
    "def sample_directions(count, d):\n",
    "    raise Exception('Unimplemented')"
   ]
  },
  {
   "cell_type": "markdown",
   "metadata": {},
   "source": [
    "Lets generate some points."
   ]
  },
  {
   "cell_type": "code",
   "execution_count": null,
   "metadata": {
    "colab": {},
    "colab_type": "code",
    "collapsed": true,
    "id": "1tEyVP47ju-E",
    "outputId": "8bcc11bd-dacf-4ab9-89d5-24395d649c0f"
   },
   "outputs": [],
   "source": [
    "sample_size = 5000\n",
    "\n",
    "# First we sample directions:\n",
    "w = sample_directions(sample_size, 2)\n",
    "\n",
    "# Then we sample radii:\n",
    "r = np.random.uniform(low = 0.0, high = 1.0, size = sample_size)\n",
    "\n",
    "# And now we can generate points:\n",
    "ball_samples = w * r.reshape((-1, 1))"
   ]
  },
  {
   "cell_type": "markdown",
   "metadata": {},
   "source": [
    "And plot the distribution."
   ]
  },
  {
   "cell_type": "code",
   "execution_count": null,
   "metadata": {},
   "outputs": [],
   "source": [
    "plt.subplots(figsize=(10, 10))\n",
    "plt.scatter(ball_samples[:, 0], ball_samples[:, 1], s=0.1)\n",
    "plt.plot();"
   ]
  },
  {
   "cell_type": "markdown",
   "metadata": {
    "colab_type": "text",
    "id": "8WUttpErju-H"
   },
   "source": [
    "**Is this a uniform distribution?**\n",
    "\n",
    "Sampling in many dimensions is not always easy - in fact it's often very hard. Latter in the course we will talk about Markov Chain Monte Carlo (MCMC) methods, which are better at sampling from complicated high-dimensional distributions."
   ]
  },
  {
   "cell_type": "markdown",
   "metadata": {
    "colab_type": "text",
    "id": "6GIXby42ju-L"
   },
   "source": [
    "## An exercise - make the coin fair.\n",
    "\n",
    "Lets say we have an unfair coin, which falls heads 90% of times and tails 10% of times."
   ]
  },
  {
   "cell_type": "code",
   "execution_count": null,
   "metadata": {
    "colab": {},
    "colab_type": "code",
    "collapsed": true,
    "id": "OQGn1Outju-L",
    "outputId": "8dd6e5ce-fdfd-4429-f3e3-7eca06c37025"
   },
   "outputs": [],
   "source": [
    "def unfair_coin():\n",
    "    return np.random.choice([0, 1], p=[0.1, 0.9])"
   ]
  },
  {
   "cell_type": "markdown",
   "metadata": {},
   "source": [
    "Your task is to implement ```make_coin_fair``` function which returns unbiased and uncorrelated samples from $\\{0, 1\\}$, each with probability $0.5$.\n",
    "\n",
    "**Note:** the only source of randomness you are allowed to use is ```unfair_coin``` function. Whatever you implement, you should be abl to justify that the returned samples are fair and uncorrelated. "
   ]
  },
  {
   "cell_type": "code",
   "execution_count": null,
   "metadata": {
    "colab": {},
    "colab_type": "code",
    "collapsed": true,
    "id": "pOM9ZgNrju-P"
   },
   "outputs": [],
   "source": [
    "def make_coin_fair():\n",
    "    # No idea so far...\n",
    "    return unfair_coin()"
   ]
  },
  {
   "cell_type": "markdown",
   "metadata": {
    "colab_type": "text",
    "id": "8WoXMGT0ju-S"
   },
   "source": [
    "### Let's see what you did there"
   ]
  },
  {
   "cell_type": "code",
   "execution_count": null,
   "metadata": {
    "colab": {},
    "colab_type": "code",
    "collapsed": true,
    "id": "AqshUoZeju-T",
    "outputId": "0669f61a-cffc-450c-f20a-90d3b4f46cd6"
   },
   "outputs": [],
   "source": [
    "test_size = 5000\n",
    "\n",
    "samples = np.array([make_coin_fair() for i in range(test_size)])\n",
    "heads = np.sum(samples == 1) / samples.shape[0]\n",
    "tails = np.sum(samples == 0) / samples.shape[0]\n",
    "\n",
    "acorr = np.correlate(samples, samples, mode='valid')[0] / test_size"
   ]
  },
  {
   "cell_type": "code",
   "execution_count": null,
   "metadata": {},
   "outputs": [],
   "source": [
    "figure, axis = plt.subplots(figsize=(5, 5))\n",
    "axis.bar([0, 1], [tails, heads])\n",
    "axis.set_xticks([0, 1])\n",
    "axis.set_xticklabels(['tails', 'heads'])\n",
    "\n",
    "display(HTML(f'<h4>(Convolutional) Auto correlation: {acorr}</h4>'))"
   ]
  }
 ],
 "metadata": {
  "colab": {
   "collapsed_sections": [],
   "name": "Random.ipynb",
   "provenance": []
  },
  "kernelspec": {
   "display_name": "Python 3",
   "language": "python",
   "name": "python3"
  },
  "language_info": {
   "codemirror_mode": {
    "name": "ipython",
    "version": 3
   },
   "file_extension": ".py",
   "mimetype": "text/x-python",
   "name": "python",
   "nbconvert_exporter": "python",
   "pygments_lexer": "ipython3",
   "version": "3.12.0"
  }
 },
 "nbformat": 4,
 "nbformat_minor": 1
}
